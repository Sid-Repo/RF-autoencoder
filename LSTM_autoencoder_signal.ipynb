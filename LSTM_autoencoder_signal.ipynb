{
 "cells": [
  {
   "cell_type": "code",
   "execution_count": 1,
   "metadata": {},
   "outputs": [
    {
     "name": "stdout",
     "output_type": "stream",
     "text": [
      "/device:GPU:0\n"
     ]
    }
   ],
   "source": [
    "#checking what device is being used\n",
    "\n",
    "import tensorflow as tf\n",
    "print(tf.test.gpu_device_name())\n"
   ]
  },
  {
   "cell_type": "code",
   "execution_count": 2,
   "metadata": {},
   "outputs": [
    {
     "name": "stderr",
     "output_type": "stream",
     "text": [
      "Using TensorFlow backend.\n"
     ]
    }
   ],
   "source": [
    "# importing modules\n",
    "\n",
    "import pandas as pd\n",
    "import os\n",
    "import time\n",
    "import numpy as np\n",
    "import matplotlib.pyplot as plt\n",
    "import keras\n",
    "import tensorflow as tf\n",
    "import seaborn as sns\n",
    "from keras.models import Model\n",
    "from keras.layers import Input, Dense, LSTM, TimeDistributed, RepeatVector\n",
    "from sklearn.preprocessing import MinMaxScaler, Normalizer\n",
    "from sklearn.model_selection import train_test_split\n",
    "from sklearn.pipeline import Pipeline\n",
    "from sklearn import metrics\n",
    "from sklearn.metrics import confusion_matrix, ConfusionMatrixDisplay, precision_score, recall_score, f1_score\n",
    "from keras import backend as K\n",
    "from keras import layers, losses\n",
    "from keras import regularizers\n",
    "import scipy\n",
    "from scipy import io\n",
    "\n",
    "#setting seaborn style\n",
    "sns.set(style='whitegrid', context='notebook')\n",
    "\n",
    "random_seed=4\n"
   ]
  },
  {
   "cell_type": "code",
   "execution_count": 3,
   "metadata": {},
   "outputs": [
    {
     "data": {
      "text/html": [
       "<div>\n",
       "<style scoped>\n",
       "    .dataframe tbody tr th:only-of-type {\n",
       "        vertical-align: middle;\n",
       "    }\n",
       "\n",
       "    .dataframe tbody tr th {\n",
       "        vertical-align: top;\n",
       "    }\n",
       "\n",
       "    .dataframe thead th {\n",
       "        text-align: right;\n",
       "    }\n",
       "</style>\n",
       "<table border=\"1\" class=\"dataframe\">\n",
       "  <thead>\n",
       "    <tr style=\"text-align: right;\">\n",
       "      <th></th>\n",
       "      <th>real</th>\n",
       "      <th>img</th>\n",
       "      <th>phase</th>\n",
       "      <th>amp</th>\n",
       "      <th>label</th>\n",
       "    </tr>\n",
       "  </thead>\n",
       "  <tbody>\n",
       "    <tr>\n",
       "      <th>0</th>\n",
       "      <td>-0.080651</td>\n",
       "      <td>0.196699</td>\n",
       "      <td>1.959912</td>\n",
       "      <td>0.212591</td>\n",
       "      <td>1</td>\n",
       "    </tr>\n",
       "    <tr>\n",
       "      <th>1</th>\n",
       "      <td>-1.132706</td>\n",
       "      <td>0.020009</td>\n",
       "      <td>3.123930</td>\n",
       "      <td>1.132883</td>\n",
       "      <td>1</td>\n",
       "    </tr>\n",
       "    <tr>\n",
       "      <th>2</th>\n",
       "      <td>-0.115224</td>\n",
       "      <td>-0.671572</td>\n",
       "      <td>-1.740715</td>\n",
       "      <td>0.681385</td>\n",
       "      <td>1</td>\n",
       "    </tr>\n",
       "    <tr>\n",
       "      <th>3</th>\n",
       "      <td>1.220895</td>\n",
       "      <td>-0.108197</td>\n",
       "      <td>-0.088390</td>\n",
       "      <td>1.225680</td>\n",
       "      <td>1</td>\n",
       "    </tr>\n",
       "    <tr>\n",
       "      <th>4</th>\n",
       "      <td>1.220895</td>\n",
       "      <td>-0.108197</td>\n",
       "      <td>-0.088390</td>\n",
       "      <td>1.225680</td>\n",
       "      <td>1</td>\n",
       "    </tr>\n",
       "  </tbody>\n",
       "</table>\n",
       "</div>"
      ],
      "text/plain": [
       "       real       img     phase       amp  label\n",
       "0 -0.080651  0.196699  1.959912  0.212591      1\n",
       "1 -1.132706  0.020009  3.123930  1.132883      1\n",
       "2 -0.115224 -0.671572 -1.740715  0.681385      1\n",
       "3  1.220895 -0.108197 -0.088390  1.225680      1\n",
       "4  1.220895 -0.108197 -0.088390  1.225680      1"
      ]
     },
     "execution_count": 3,
     "metadata": {},
     "output_type": "execute_result"
    }
   ],
   "source": [
    "# loading the mat file\n",
    "\n",
    "# ********** loading 802.11ac file *****************\n",
    "# wifi_data_ac_16=scipy.io.loadmat('80211ac_5packets_16qam.mat')['waveStruct']['waveform'][0][0]\n",
    "# wifi_data_ac_16=wifi_data_ac_16.T\n",
    "# wifi_data_ac_16=wifi_data_ac_16.flatten()\n",
    "\n",
    "# wifi_data_ac_64=scipy.io.loadmat('80211ac_5packets.mat')['waveStruct']['waveform'][0][0]\n",
    "# wifi_data_ac_64=wifi_data_ac_64.T\n",
    "# wifi_data_ac_64=wifi_data_ac_64.flatten()\n",
    "\n",
    "# wifi_data_ac_256=scipy.io.loadmat('80211ac_5packets_256qam.mat')['waveStruct']['waveform'][0][0]\n",
    "# wifi_data_ac_256=wifi_data_ac_256.T\n",
    "# wifi_data_ac_256=wifi_data_ac_256.flatten()\n",
    "\n",
    "# ************ loading 802.11ax file **************\n",
    "\n",
    "# wifi_data_ax_16=scipy.io.loadmat('80211ax_10packets_16qam.mat')['waveStruct']['waveform'][0][0]\n",
    "# wifi_data_ax_16=wifi_data_ax_16.T\n",
    "# wifi_data_ax_16=wifi_data_ax_16.flatten()\n",
    "\n",
    "wifi_data_ax_64=scipy.io.loadmat('80211ax_10packets.mat')['waveStruct']['waveform'][0][0]\n",
    "wifi_data_ax_64=wifi_data_ax_64.T\n",
    "wifi_data_ax_64=wifi_data_ax_64.flatten()\n",
    "\n",
    "# wifi_data_ax_256=scipy.io.loadmat('80211ax_10packets_256qam.mat')['waveStruct']['waveform'][0][0]\n",
    "# wifi_data_ax_256=wifi_data_ax_256.T\n",
    "# wifi_data_ax_256=wifi_data_ax_256.flatten()\n",
    "\n",
    "\n",
    "#wifi_data_numpy=np.concatenate((wifi_data_ax_16,wifi_data_ax_64,wifi_data_ax_256,wifi_data_ac_16,wifi_data_ac_64,wifi_data_ac_256))\n",
    "\n",
    "#wifi_data_numpy=np.concatenate((wifi_data_ax_64,wifi_data_ac_64))\n",
    "\n",
    "wifi_data_numpy=wifi_data_ax_64\n",
    "\n",
    "wifi_data=pd.DataFrame({'real':np.real(wifi_data_numpy),'img':np.imag(wifi_data_numpy),\n",
    "                       'phase':np.angle(wifi_data_numpy), 'amp':np.abs(wifi_data_numpy),\n",
    "                      })\n",
    "\n",
    "# because some rows are 0, I'm removing them\n",
    "\n",
    "wifi_data=wifi_data.loc[~(wifi_data==0).any(axis=1)]\n",
    "wifi_data['label']=1\n",
    "wifi_data.reset_index(drop=True, inplace=True)\n",
    "wifi_data.head()"
   ]
  },
  {
   "cell_type": "code",
   "execution_count": 4,
   "metadata": {},
   "outputs": [
    {
     "data": {
      "text/html": [
       "<div>\n",
       "<style scoped>\n",
       "    .dataframe tbody tr th:only-of-type {\n",
       "        vertical-align: middle;\n",
       "    }\n",
       "\n",
       "    .dataframe tbody tr th {\n",
       "        vertical-align: top;\n",
       "    }\n",
       "\n",
       "    .dataframe thead th {\n",
       "        text-align: right;\n",
       "    }\n",
       "</style>\n",
       "<table border=\"1\" class=\"dataframe\">\n",
       "  <thead>\n",
       "    <tr style=\"text-align: right;\">\n",
       "      <th></th>\n",
       "      <th>real</th>\n",
       "      <th>img</th>\n",
       "      <th>phase</th>\n",
       "      <th>amp</th>\n",
       "      <th>label</th>\n",
       "    </tr>\n",
       "  </thead>\n",
       "  <tbody>\n",
       "    <tr>\n",
       "      <th>0</th>\n",
       "      <td>0.018311</td>\n",
       "      <td>0.015259</td>\n",
       "      <td>0.694738</td>\n",
       "      <td>0.023836</td>\n",
       "      <td>0</td>\n",
       "    </tr>\n",
       "    <tr>\n",
       "      <th>1</th>\n",
       "      <td>-0.042726</td>\n",
       "      <td>-0.012207</td>\n",
       "      <td>-2.863293</td>\n",
       "      <td>0.044436</td>\n",
       "      <td>0</td>\n",
       "    </tr>\n",
       "    <tr>\n",
       "      <th>2</th>\n",
       "      <td>0.006104</td>\n",
       "      <td>-0.003052</td>\n",
       "      <td>-0.463648</td>\n",
       "      <td>0.006824</td>\n",
       "      <td>0</td>\n",
       "    </tr>\n",
       "    <tr>\n",
       "      <th>3</th>\n",
       "      <td>0.076296</td>\n",
       "      <td>0.009156</td>\n",
       "      <td>0.119429</td>\n",
       "      <td>0.076844</td>\n",
       "      <td>0</td>\n",
       "    </tr>\n",
       "    <tr>\n",
       "      <th>4</th>\n",
       "      <td>0.024415</td>\n",
       "      <td>0.003052</td>\n",
       "      <td>0.124355</td>\n",
       "      <td>0.024605</td>\n",
       "      <td>0</td>\n",
       "    </tr>\n",
       "  </tbody>\n",
       "</table>\n",
       "</div>"
      ],
      "text/plain": [
       "       real       img     phase       amp  label\n",
       "0  0.018311  0.015259  0.694738  0.023836      0\n",
       "1 -0.042726 -0.012207 -2.863293  0.044436      0\n",
       "2  0.006104 -0.003052 -0.463648  0.006824      0\n",
       "3  0.076296  0.009156  0.119429  0.076844      0\n",
       "4  0.024415  0.003052  0.124355  0.024605      0"
      ]
     },
     "execution_count": 4,
     "metadata": {},
     "output_type": "execute_result"
    }
   ],
   "source": [
    "# loading recorded LTE data\n",
    "\n",
    "lte_data_numpy=np.fromfile('usrp_lte.csv', dtype=np.complex64, count=500000)\n",
    "\n",
    "lte_data_numpy=lte_data_numpy*100\n",
    "\n",
    "lte_data=pd.DataFrame({'real':np.real(lte_data_numpy)[:],'img':np.imag(lte_data_numpy)[:],\n",
    "                        'phase':np.angle(lte_data_numpy)[:], 'amp':np.abs(lte_data_numpy)[:],\n",
    "                       })\n",
    "\n",
    "\n",
    "# because some rows are 0, I'm removing them\n",
    "\n",
    "lte_data=lte_data.loc[~(lte_data==0).any(axis=1)]\n",
    "lte_data['label']=0\n",
    "#lte_data=lte_data.sample(frac=1)\n",
    "lte_data.reset_index(drop=True, inplace=True)\n",
    "lte_data.head()"
   ]
  },
  {
   "cell_type": "code",
   "execution_count": 5,
   "metadata": {},
   "outputs": [
    {
     "name": "stdout",
     "output_type": "stream",
     "text": [
      "Length of train data: 350000\n",
      "Length of test data: 125173\n",
      "Length of Wi-Fi data: 60000\n"
     ]
    },
    {
     "name": "stderr",
     "output_type": "stream",
     "text": [
      "C:\\Users\\sidav\\anaconda3\\envs\\gpu-env\\lib\\site-packages\\pandas\\core\\indexing.py:1736: SettingWithCopyWarning: \n",
      "A value is trying to be set on a copy of a slice from a DataFrame.\n",
      "Try using .loc[row_indexer,col_indexer] = value instead\n",
      "\n",
      "See the caveats in the documentation: https://pandas.pydata.org/pandas-docs/stable/user_guide/indexing.html#returning-a-view-versus-a-copy\n",
      "  isetter(loc, value[:, i].tolist())\n"
     ]
    }
   ],
   "source": [
    "# creating train and test data. Wifi is our clean data and LTE is anomalous data.\n",
    "\n",
    "training_size = 350000\n",
    "\n",
    "# train data. dropping labels on training data since we don't need it for training\n",
    "x_train = lte_data[:training_size].drop(['label'], axis=1)\n",
    "\n",
    "# test data\n",
    "x_test=lte_data[training_size:]\n",
    "\n",
    "# inserting Wi-Fi data in between\n",
    "# x_test.iloc[15000:25000] = wifi_data.iloc[:10000].values\n",
    "# x_test.iloc[25000:35000] = wifi_data.iloc[20000:30000].values\n",
    "# x_test.iloc[35000:45000] = wifi_data.iloc[40000:50000].values\n",
    "# x_test.iloc[70000:80000] = wifi_data.iloc[60000:70000].values\n",
    "# x_test.iloc[80000:90000] = wifi_data.iloc[70000:80000].values\n",
    "# x_test.iloc[90000:100000] = wifi_data.iloc[80000:90000].values\n",
    "\n",
    "#x_test.iloc[30000:60000] = wifi_data.iloc[:30000].values\n",
    "\n",
    "x_test.iloc[45000:60000] = wifi_data.iloc[:15000].values\n",
    "\n",
    "\n",
    "\n",
    "print(\"Length of train data:\",len(x_train))\n",
    "print(\"Length of test data:\",len(x_test))\n",
    "print(\"Length of Wi-Fi data:\",60000)"
   ]
  },
  {
   "cell_type": "code",
   "execution_count": 6,
   "metadata": {},
   "outputs": [],
   "source": [
    "# creating training and validation dataset\n",
    "x_train,x_validate = train_test_split(x_train,test_size=0.2,random_state=random_seed)\n",
    "\n",
    "# separating labels from test dataset for plotting later\n",
    "x_test,labels = x_test.drop('label',axis=1).values,x_test.label.values"
   ]
  },
  {
   "cell_type": "code",
   "execution_count": 7,
   "metadata": {},
   "outputs": [],
   "source": [
    "# creating a pipeline for normalizing\n",
    "\n",
    "pipeline=Pipeline([('normalizer',Normalizer()), ('scaler',MinMaxScaler())])\n",
    "\n",
    "x_train_transformed=pipeline.fit_transform(x_train)\n",
    "x_validate_transformed=pipeline.fit_transform(x_validate)\n",
    "x_test_transformed=pipeline.transform(x_test)"
   ]
  },
  {
   "cell_type": "raw",
   "metadata": {},
   "source": [
    "# plotting the relation between the 1st 3 features after transformation\n",
    "\n",
    "# storing the column names because the transformed data is a numpy array and does not contain column name. But the  \\\n",
    "# iloc function needs a dataframe and so we are converting the numpy array to dataframe which needs the column name.\n",
    "column_names=list(x_train.columns)\n",
    "\n",
    "# one way of doing it\n",
    "g=sns.PairGrid(pd.DataFrame(x_train_transformed, columns=column_names).iloc[:,:5].sample(600))   \n",
    "\n",
    "# another way of doing the above without converting into dataframe. Note: .sample(600) is returning a random 600 examples not the first 600 examples\n",
    "#g=sns.PairGrid(pd.DataFrame(x_train_transformed[:600,:3]))\n",
    "plt.subplots_adjust(top=0.9)\n",
    "g.fig.suptitle('After:')\n",
    "g.map_diag(sns.kdeplot)\n",
    "g.map_offdiag(sns.kdeplot)"
   ]
  },
  {
   "cell_type": "code",
   "execution_count": 8,
   "metadata": {},
   "outputs": [],
   "source": [
    "# Reshaping data for LSTM\n",
    "\n",
    "x_train_transformed=x_train_transformed.reshape(x_train_transformed.shape[0],2,x_train_transformed.shape[1])\n",
    "x_validate_transformed=x_validate_transformed.reshape(x_validate_transformed.shape[0],2,x_validate_transformed.shape[1])\n",
    "x_test_transformed=x_test_transformed.reshape(x_test_transformed.shape[0],2,x_test_transformed.shape[1])"
   ]
  },
  {
   "cell_type": "code",
   "execution_count": 9,
   "metadata": {},
   "outputs": [
    {
     "name": "stdout",
     "output_type": "stream",
     "text": [
      "X train shape: (280000, 1, 4)\n",
      "X validate shape: (70000, 1, 4)\n",
      "X test shape: (125173, 1, 4)\n"
     ]
    }
   ],
   "source": [
    "#shape of training and testing data\n",
    "\n",
    "print(\"X train shape:\",x_train_transformed.shape)\n",
    "print(\"X validate shape:\",x_validate_transformed.shape)\n",
    "print(\"X test shape:\",x_test_transformed.shape)"
   ]
  },
  {
   "cell_type": "code",
   "execution_count": 10,
   "metadata": {},
   "outputs": [
    {
     "name": "stdout",
     "output_type": "stream",
     "text": [
      "Model: \"LSTM model\"\n",
      "_________________________________________________________________\n",
      "Layer (type)                 Output Shape              Param #   \n",
      "=================================================================\n",
      "input_1 (InputLayer)         (None, 1, 4)              0         \n",
      "_________________________________________________________________\n",
      "lstm_1 (LSTM)                (None, 1, 6)              264       \n",
      "_________________________________________________________________\n",
      "lstm_2 (LSTM)                (None, 1, 4)              176       \n",
      "_________________________________________________________________\n",
      "lstm_3 (LSTM)                (None, 2)                 56        \n",
      "_________________________________________________________________\n",
      "repeat_vector_1 (RepeatVecto (None, 1, 2)              0         \n",
      "_________________________________________________________________\n",
      "lstm_4 (LSTM)                (None, 1, 2)              40        \n",
      "_________________________________________________________________\n",
      "lstm_5 (LSTM)                (None, 1, 4)              112       \n",
      "_________________________________________________________________\n",
      "lstm_6 (LSTM)                (None, 1, 6)              264       \n",
      "_________________________________________________________________\n",
      "time_distributed_1 (TimeDist (None, 1, 4)              28        \n",
      "=================================================================\n",
      "Total params: 940\n",
      "Trainable params: 940\n",
      "Non-trainable params: 0\n",
      "_________________________________________________________________\n"
     ]
    }
   ],
   "source": [
    "#developing model\n",
    "\n",
    "input_layer = Input(shape=(x_train_transformed.shape[1], x_train_transformed.shape[2]))\n",
    "L1 = LSTM(6, activation='elu', return_sequences=True)(input_layer)\n",
    "L2 = LSTM(4, activation='elu', return_sequences=True)(L1)\n",
    "latent_vector = LSTM(2, activation='elu', return_sequences=False)(L2)\n",
    "L3 = RepeatVector(x_train_transformed.shape[1])(latent_vector)\n",
    "L3_5 = LSTM(2, activation='elu', return_sequences=True)(L3)\n",
    "L4 = LSTM(4, activation='elu', return_sequences=True)(L3_5)\n",
    "L5 = LSTM(6, activation='elu', return_sequences=True)(L4)\n",
    "output = TimeDistributed(Dense(x_train_transformed.shape[2]))(L5)\n",
    "lstm_model = Model(inputs=input_layer, outputs=output, name='LSTM model')\n",
    "\n",
    "lstm_model.compile(optimizer='adam', loss='mse', metrics=['acc'])\n",
    "lstm_model.summary()"
   ]
  },
  {
   "cell_type": "code",
   "execution_count": 11,
   "metadata": {},
   "outputs": [
    {
     "name": "stdout",
     "output_type": "stream",
     "text": [
      "Train on 280000 samples, validate on 70000 samples\n",
      "Epoch 1/10\n",
      "280000/280000 [==============================] - 16s 59us/step - loss: 0.0415 - acc: 0.8139 - val_loss: 0.0045 - val_acc: 0.9502\n",
      "Epoch 2/10\n",
      "280000/280000 [==============================] - 14s 51us/step - loss: 0.0015 - acc: 0.9757 - val_loss: 0.0014 - val_acc: 0.9746\n",
      "Epoch 3/10\n",
      "280000/280000 [==============================] - 14s 51us/step - loss: 7.3249e-04 - acc: 0.9868 - val_loss: 9.1227e-04 - val_acc: 0.9897\n",
      "Epoch 4/10\n",
      "280000/280000 [==============================] - 14s 50us/step - loss: 5.9259e-04 - acc: 0.9923 - val_loss: 8.4949e-04 - val_acc: 0.9903\n",
      "Epoch 5/10\n",
      "280000/280000 [==============================] - 14s 50us/step - loss: 5.5675e-04 - acc: 0.9923 - val_loss: 8.0405e-04 - val_acc: 0.9907\n",
      "Epoch 6/10\n",
      "280000/280000 [==============================] - 14s 50us/step - loss: 5.1832e-04 - acc: 0.9921 - val_loss: 7.4341e-04 - val_acc: 0.9901\n",
      "Epoch 7/10\n",
      "280000/280000 [==============================] - 14s 51us/step - loss: 4.8836e-04 - acc: 0.9917 - val_loss: 6.8162e-04 - val_acc: 0.9894\n",
      "Epoch 8/10\n",
      "280000/280000 [==============================] - 14s 51us/step - loss: 4.7506e-04 - acc: 0.9916 - val_loss: 7.0897e-04 - val_acc: 0.9893\n",
      "Epoch 9/10\n",
      "280000/280000 [==============================] - 14s 51us/step - loss: 4.6868e-04 - acc: 0.9916 - val_loss: 7.0887e-04 - val_acc: 0.9892\n",
      "Epoch 10/10\n",
      "280000/280000 [==============================] - 14s 51us/step - loss: 4.6052e-04 - acc: 0.9916 - val_loss: 6.9710e-04 - val_acc: 0.9890\n"
     ]
    }
   ],
   "source": [
    "# training the model\n",
    "\n",
    "Epochs=10\n",
    "\n",
    "start_time=time.time()\n",
    "\n",
    "history = lstm_model.fit(x_train_transformed,x_train_transformed, epochs = Epochs, batch_size=256, shuffle=True,\n",
    "                       validation_data=(x_validate_transformed,x_validate_transformed))\n",
    "\n",
    "end_time=time.time()"
   ]
  },
  {
   "cell_type": "code",
   "execution_count": 12,
   "metadata": {},
   "outputs": [
    {
     "name": "stdout",
     "output_type": "stream",
     "text": [
      "GPU time for training: 153.83435893058777 s\n"
     ]
    }
   ],
   "source": [
    "print(\"GPU time for training:\",end_time-start_time,\"s\")"
   ]
  },
  {
   "cell_type": "code",
   "execution_count": 13,
   "metadata": {},
   "outputs": [
    {
     "data": {
      "image/png": "[encoded data removed]",
      "text/plain": [
       "<Figure size 432x288 with 1 Axes>"
      ]
     },
     "metadata": {},
     "output_type": "display_data"
    }
   ],
   "source": [
    "# plotting train and validation loss\n",
    "\n",
    "\n",
    "loss = history.history['loss']\n",
    "val_loss = history.history['val_loss']\n",
    "epochs = range(Epochs)\n",
    "\n",
    "plt.figure()\n",
    "plt.plot(epochs, loss, 'b', label='Training loss')\n",
    "plt.plot(epochs, val_loss, 'r', label='Validation loss')\n",
    "plt.title('Training and validation loss')\n",
    "plt.legend()\n",
    "plt.show()"
   ]
  },
  {
   "cell_type": "code",
   "execution_count": 14,
   "metadata": {},
   "outputs": [
    {
     "data": {
      "image/png": "[encoded data removed]",
      "text/plain": [
       "<Figure size 432x288 with 1 Axes>"
      ]
     },
     "metadata": {},
     "output_type": "display_data"
    }
   ],
   "source": [
    "# plotting train and validation accuracy\n",
    "\n",
    "acc = history.history['acc']\n",
    "val_acc = history.history['val_acc']\n",
    "epochs = range(Epochs)\n",
    "plt.figure()\n",
    "axes=plt.gca()\n",
    "axes.set_ylim([0.5,1])\n",
    "plt.plot(epochs, acc, 'b', label='Training accuracy')\n",
    "plt.plot(epochs, val_acc, 'r', label='Validation accuracy')\n",
    "\n",
    "plt.title('Training and validation accuracy')\n",
    "plt.legend()\n",
    "plt.show()"
   ]
  },
  {
   "cell_type": "code",
   "execution_count": 15,
   "metadata": {},
   "outputs": [],
   "source": [
    "# Reconstructing data\n",
    "\n",
    "reconstructions = lstm_model.predict(x_test_transformed)\n",
    "\n",
    "# reshaping data again from 3D to 2D for finding the average along the column\n",
    "\n",
    "reconstructions=reconstructions.reshape(-1,x_test_transformed.shape[2])\n",
    "x_test_transformed=x_test_transformed.reshape(-1,x_test_transformed.shape[2])\n",
    "\n",
    "mse = np.mean(np.power((reconstructions-x_test_transformed),2), axis=1)\n"
   ]
  },
  {
   "cell_type": "code",
   "execution_count": 16,
   "metadata": {},
   "outputs": [
    {
     "name": "stdout",
     "output_type": "stream",
     "text": [
      "There are 13563 outliers in a total of 125173 signals.\n"
     ]
    }
   ],
   "source": [
    "# calculating the modified z-score to find outliers\n",
    "\n",
    "# manually setting threshold\n",
    "Threshold = 0.015\n",
    "\n",
    "def _z_score(mse):\n",
    "    median_val_mse = np.median(mse)\n",
    "    diff = np.abs(mse - median_val_mse)\n",
    "    median_of_diff = np.median(diff)\n",
    "    \n",
    "    return 0.6745 * diff/median_of_diff\n",
    "\n",
    "\n",
    "#z_score = _z_score(mse)\n",
    "\n",
    "outliers = mse > Threshold\n",
    "\n",
    "print(\"There are {} outliers in a total of {} signals.\".format(np.sum(outliers), len(mse)))"
   ]
  },
  {
   "cell_type": "code",
   "execution_count": 17,
   "metadata": {},
   "outputs": [
    {
     "data": {
      "text/plain": [
       "<function matplotlib.pyplot.show(close=None, block=None)>"
      ]
     },
     "execution_count": 17,
     "metadata": {},
     "output_type": "execute_result"
    },
    {
     "data": {
      "image/png": "[encoded data removed]",
      "text/plain": [
       "<Figure size 720x576 with 1 Axes>"
      ]
     },
     "metadata": {},
     "output_type": "display_data"
    }
   ],
   "source": [
    "fig, ax = plt.subplots(figsize=(10, 8))\n",
    "ax.plot(mse, label='MSE', color='b', linewidth=1)\n",
    "plt.axhline(Threshold, label='Threshold', color='r', linestyle='-')\n",
    "plt.legend(loc='upper left')\n",
    "ax.set_title('Reconstruction loss graph in LSTM autoencoder', fontsize=16)\n",
    "plt.xlabel('Test samples')\n",
    "plt.ylabel('Loss')\n",
    "plt.savefig('lstm_autoencoder.png')\n",
    "plt.show"
   ]
  },
  {
   "cell_type": "code",
   "execution_count": 18,
   "metadata": {},
   "outputs": [
    {
     "data": {
      "image/png": "[encoded data removed]",
      "text/plain": [
       "<Figure size 576x576 with 1 Axes>"
      ]
     },
     "metadata": {},
     "output_type": "display_data"
    }
   ],
   "source": [
    "# Visualizing the latent space\n",
    "\n",
    "encoder = Model(input_layer,latent_vector)\n",
    "\n",
    "x_temp = x_test_transformed.reshape(x_test_transformed.shape[0],1,x_test_transformed.shape[1])\n",
    "latent_space = encoder.predict(x_temp)\n",
    "\n",
    "X = latent_space[:,0]\n",
    "Y = latent_space[:,1]\n",
    "\n",
    "plt.subplots(figsize=(8,8))\n",
    "plt.scatter(X[labels==0],Y[labels==0], s=5, c='g', alpha=0.5, label='LTE')\n",
    "plt.scatter(X[labels==1],Y[labels==1], s=5, c='r', alpha=0.5, label='Wi-Fi')\n",
    "\n",
    "plt.legend()\n",
    "plt.title('LSTM autoencoder\\'s Latent Space Representation')\n",
    "\n",
    "plt.savefig('LSTM autoencoder\\'s Latent Space Representation.png')\n",
    "plt.show()"
   ]
  },
  {
   "cell_type": "code",
   "execution_count": 19,
   "metadata": {},
   "outputs": [
    {
     "data": {
      "image/png": "[encoded data removed]",
      "text/plain": [
       "<Figure size 432x288 with 2 Axes>"
      ]
     },
     "metadata": {},
     "output_type": "display_data"
    }
   ],
   "source": [
    "# CONFUSION MATRIX\n",
    "\n",
    "cm=confusion_matrix(labels,outliers)\n",
    "\n",
    "ax=plt.subplot()\n",
    "sns.set(font_scale=1.2)\n",
    "sns.heatmap(cm,annot=True, fmt='g')\n",
    "\n",
    "ax.set_xlabel('Predicted values')\n",
    "ax.set_ylabel('True values')\n",
    "\n",
    "ax.set_yticklabels(['LTE','Wi-Fi'])\n",
    "ax.set_xticklabels(['LTE','Wi-Fi'])\n",
    "ax.set_title('Confusion matrix for LSTM autoencoder')\n",
    "\n",
    "plt.savefig('conf_matrix_lstm_autoencoder.png')"
   ]
  },
  {
   "cell_type": "code",
   "execution_count": 20,
   "metadata": {},
   "outputs": [
    {
     "name": "stdout",
     "output_type": "stream",
     "text": [
      "Precision of classification: 97.46 %\n",
      "Recall of classification: 88.13 %\n",
      "F1-score of classification: 0.93\n"
     ]
    }
   ],
   "source": [
    "# Precision, Recall and F1-score\n",
    "\n",
    "print(\"Precision of classification:\", \"%.2f\" % (precision_score(labels,outliers)*100),\"%\")\n",
    "print(\"Recall of classification:\",\"%.2f\" % (recall_score(labels,outliers)*100),\"%\")\n",
    "print(\"F1-score of classification:\",\"%.2f\" % (f1_score(labels,outliers)))"
   ]
  },
  {
   "cell_type": "markdown",
   "metadata": {},
   "source": [
    "# Observations:\n",
    "\n",
    "# 'elu' activation function is the best for this task\n",
    "\n",
    "# providing magnitude, phase features along with I/Q data for input performs better compared to current methods"
   ]
  },
  {
   "cell_type": "code",
   "execution_count": null,
   "metadata": {},
   "outputs": [],
   "source": []
  }
 ],
 "metadata": {
  "kernelspec": {
   "display_name": "Python 3 (ipykernel)",
   "language": "python",
   "name": "python3"
  },
  "language_info": {
   "codemirror_mode": {
    "name": "ipython",
    "version": 3
   },
   "file_extension": ".py",
   "mimetype": "text/x-python",
   "name": "python",
   "nbconvert_exporter": "python",
   "pygments_lexer": "ipython3",
   "version": "3.9.7"
  }
 },
 "nbformat": 4,
 "nbformat_minor": 4
}
